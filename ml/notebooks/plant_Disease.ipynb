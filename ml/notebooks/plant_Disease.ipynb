{
 "cells": [
  {
   "cell_type": "code",
   "execution_count": null,
   "metadata": {},
   "outputs": [],
   "source": [
    "!pip install tensorflow"
   ]
  },
  {
   "cell_type": "code",
   "execution_count": null,
   "metadata": {},
   "outputs": [],
   "source": [
    "import tensorflow\n",
    "import pandas as pd"
   ]
  },
  {
   "cell_type": "code",
   "execution_count": null,
   "metadata": {},
   "outputs": [],
   "source": [
    "from tensorflow import keras\n",
    "from keras import Sequential\n",
    "from keras.layers import Dense,Flatten\n",
    "from keras.applications.vgg16 import VGG16\n",
    "from tensorflow.keras.preprocessing.image import ImageDataGenerator"
   ]
  },
  {
   "cell_type": "code",
   "execution_count": null,
   "metadata": {},
   "outputs": [],
   "source": [
    "conv_base = VGG16(\n",
    "    weights='imagenet',\n",
    "    include_top = False,\n",
    "    input_shape=(150,150,3)\n",
    ")"
   ]
  },
  {
   "cell_type": "code",
   "execution_count": null,
   "metadata": {},
   "outputs": [],
   "source": [
    "conv_base.summary()"
   ]
  },
  {
   "cell_type": "code",
   "execution_count": null,
   "metadata": {},
   "outputs": [],
   "source": [
    "model = Sequential()\n",
    "\n",
    "model.add(conv_base)\n",
    "model.add(Flatten())\n",
    "model.add(Dense(256,activation='relu'))\n",
    "model.add(Dense(6, activation='softmax'))"
   ]
  },
  {
   "cell_type": "code",
   "execution_count": null,
   "metadata": {},
   "outputs": [],
   "source": [
    "model.summary()"
   ]
  },
  {
   "cell_type": "code",
   "execution_count": null,
   "metadata": {},
   "outputs": [],
   "source": [
    "conv_base.trainable = False"
   ]
  },
  {
   "cell_type": "code",
   "execution_count": null,
   "metadata": {},
   "outputs": [],
   "source": [
    "# Load CSV file\n",
    "train_csv = '../../../../Dataset/Plant Disease Detection/train/_classes.csv'  \n",
    "train_df = pd.read_csv(train_csv)\n",
    "\n",
    "valid_csv = '../../../../Dataset/Plant Disease Detection/valid/_classes.csv'  \n",
    "valid_df = pd.read_csv(valid_csv)\n",
    "\n",
    "train_df.columns = train_df.columns.str.strip()\n",
    "valid_df.columns = valid_df.columns.str.strip()\n",
    "\n",
    "# Create ImageDataGenerators \n",
    "train_datagen = ImageDataGenerator(\n",
    "    rescale=1./255,\n",
    "    shear_range=0.2,\n",
    "    zoom_range=0.2,\n",
    "    horizontal_flip=True\n",
    ")\n",
    "\n",
    "test_datagen = ImageDataGenerator(rescale=1./255)\n",
    "\n",
    "# Create a DataFrame with file paths and labels\n",
    "train_df['filename'] = '../../../../Dataset/Plant Disease Detection/train/' + train_df['filename']  \n",
    "train_df['label'] = train_df[['bercak_daun', 'defisiensi_kalsium', 'hangus_daun', 'hawar_daun', 'mosaik_vena_kuning', 'virus_kuning_keriting']].idxmax(axis=1)\n",
    "\n",
    "valid_df['filename'] = '../../../../Dataset/Plant Disease Detection/valid/' + valid_df['filename']  \n",
    "valid_df['label'] = valid_df[['bercak_daun', 'defisiensi_kalsium', 'hangus_daun', 'hawar_daun', 'mosaik_vena_kuning', 'virus_kuning_keriting']].idxmax(axis=1)\n",
    "\n",
    "\n",
    "# Create ImageDataGenerator using flow_from_dataframe\n",
    "train_generator = train_datagen.flow_from_dataframe(\n",
    "    dataframe=train_df,\n",
    "    x_col='filename',\n",
    "    y_col='label',\n",
    "    target_size=(150, 150),\n",
    "    batch_size=32,\n",
    "    class_mode='categorical',\n",
    "    shuffle=True\n",
    ")\n",
    "\n",
    "# Create ImageDataGenerator using flow_from_dataframe\n",
    "valid_generator = test_datagen.flow_from_dataframe(\n",
    "    dataframe=valid_df,\n",
    "    x_col='filename',\n",
    "    y_col='label',\n",
    "    target_size=(150, 150),\n",
    "    batch_size=32,\n",
    "    class_mode='categorical',\n",
    "    shuffle=True\n",
    ")"
   ]
  },
  {
   "cell_type": "code",
   "execution_count": null,
   "metadata": {},
   "outputs": [],
   "source": [
    "model.compile(optimizer='adam',loss='categorical_crossentropy',metrics=['accuracy'])"
   ]
  },
  {
   "cell_type": "code",
   "execution_count": null,
   "metadata": {},
   "outputs": [],
   "source": [
    "history = model.fit(train_generator,epochs=5,validation_data=valid_generator)"
   ]
  },
  {
   "cell_type": "code",
   "execution_count": null,
   "metadata": {},
   "outputs": [],
   "source": [
    "from tensorflow.keras.preprocessing import image\n",
    "import numpy as np\n",
    "\n",
    "# Load the new image file\n",
    "class_names = ['bercak_daun', 'defisiensi_kalsium', 'hangus_daun', 'hawar_daun', 'mosaik_vena_kuning', 'virus_kuning_keriting']\n",
    "new_image_path = '../../../../Dataset/Plant Disease Detection/test/bercak_daun--54-_JPG.rf.29291b25d0990a1b964bb68382f1a986.jpg'  # Change this to the path of your new image\n",
    "new_img = image.load_img(new_image_path, target_size=(150, 150))  # Adjust target_size as needed\n",
    "new_img_array = image.img_to_array(new_img)\n",
    "new_img_array = np.expand_dims(new_img_array, axis=0) / 255.0  # Normalize the image\n",
    "\n",
    "# Make predictions\n",
    "predictions = model.predict(new_img_array)\n",
    "\n",
    "# Display the predicted probabilities for each class\n",
    "print(predictions)\n",
    "\n",
    "predicted_class = np.argmax(predictions)\n",
    "# Get the final predicted class name\n",
    "predicted_class_name = class_names[predicted_class]\n",
    "\n",
    "predicted_class_name"
   ]
  },
  {
   "cell_type": "code",
   "execution_count": null,
   "metadata": {},
   "outputs": [],
   "source": [
    "# Save the model\n",
    "model.save(\"../models/plantDisease_model.h5\")"
   ]
  },
  {
   "cell_type": "code",
   "execution_count": 1,
   "metadata": {},
   "outputs": [
    {
     "name": "stdout",
     "output_type": "stream",
     "text": [
      "WARNING:tensorflow:From c:\\Users\\MIS\\AppData\\Local\\Programs\\Python\\Python311\\Lib\\site-packages\\keras\\src\\losses.py:2976: The name tf.losses.sparse_softmax_cross_entropy is deprecated. Please use tf.compat.v1.losses.sparse_softmax_cross_entropy instead.\n",
      "\n",
      "WARNING:tensorflow:From c:\\Users\\MIS\\AppData\\Local\\Programs\\Python\\Python311\\Lib\\site-packages\\keras\\src\\saving\\legacy\\saved_model\\load.py:107: The name tf.gfile.Exists is deprecated. Please use tf.io.gfile.exists instead.\n",
      "\n",
      "WARNING:tensorflow:From c:\\Users\\MIS\\AppData\\Local\\Programs\\Python\\Python311\\Lib\\site-packages\\keras\\src\\engine\\functional.py:156: The name tf.executing_eagerly_outside_functions is deprecated. Please use tf.compat.v1.executing_eagerly_outside_functions instead.\n",
      "\n",
      "WARNING:tensorflow:From c:\\Users\\MIS\\AppData\\Local\\Programs\\Python\\Python311\\Lib\\site-packages\\keras\\src\\layers\\pooling\\max_pooling2d.py:161: The name tf.nn.max_pool is deprecated. Please use tf.nn.max_pool2d instead.\n",
      "\n"
     ]
    }
   ],
   "source": [
    "from tensorflow.keras.models import load_model\n",
    "\n",
    "# Load the saved model\n",
    "loaded_model = load_model('../models/plantDisease_model')"
   ]
  },
  {
   "cell_type": "code",
   "execution_count": 2,
   "metadata": {},
   "outputs": [
    {
     "name": "stderr",
     "output_type": "stream",
     "text": [
      "c:\\Users\\MIS\\AppData\\Local\\Programs\\Python\\Python311\\Lib\\site-packages\\keras\\src\\engine\\training.py:3103: UserWarning: You are saving your model as an HDF5 file via `model.save()`. This file format is considered legacy. We recommend using instead the native Keras format, e.g. `model.save('my_model.keras')`.\n",
      "  saving_api.save_model(\n"
     ]
    }
   ],
   "source": [
    "loaded_model.save(\"../models/plantDisease_model.h5\")"
   ]
  },
  {
   "cell_type": "code",
   "execution_count": 3,
   "metadata": {},
   "outputs": [],
   "source": [
    "loaded_model = load_model('../models/plantDisease_model.h5')"
   ]
  },
  {
   "cell_type": "code",
   "execution_count": 4,
   "metadata": {},
   "outputs": [
    {
     "name": "stdout",
     "output_type": "stream",
     "text": [
      "1/1 [==============================] - 1s 1s/step\n",
      "[[9.9999416e-01 6.0135599e-09 3.2821441e-07 2.1230221e-06 8.8866986e-10\n",
      "  3.3608057e-06]]\n"
     ]
    },
    {
     "data": {
      "text/plain": [
       "'brown spots'"
      ]
     },
     "execution_count": 4,
     "metadata": {},
     "output_type": "execute_result"
    }
   ],
   "source": [
    "from tensorflow.keras.preprocessing import image\n",
    "import numpy as np\n",
    "# Load the new image file\n",
    "class_names = ['brown spots', 'deficiency calcium', 'xanthomonas', 'stemphylium solani', 'mosaic vena kuning', 'virus king keriting']\n",
    "new_image_path = './1.jpg'  # Change this to the path of your new image\n",
    "new_img = image.load_img(new_image_path, target_size=(150, 150))  # Adjust target_size as needed\n",
    "new_img_array = image.img_to_array(new_img)\n",
    "new_img_array = np.expand_dims(new_img_array, axis=0) / 255.0  # Normalize the image\n",
    "\n",
    "# Make predictions\n",
    "predictions = loaded_model.predict(new_img_array)\n",
    "\n",
    "# Display the predicted probabilities for each class\n",
    "print(predictions)\n",
    "\n",
    "predicted_class = np.argmax(predictions)\n",
    "# Get the final predicted class name\n",
    "predicted_class_name = class_names[predicted_class]\n",
    "\n",
    "predicted_class_name"
   ]
  }
 ],
 "metadata": {
  "kernelspec": {
   "display_name": "base",
   "language": "python",
   "name": "python3"
  },
  "language_info": {
   "codemirror_mode": {
    "name": "ipython",
    "version": 3
   },
   "file_extension": ".py",
   "mimetype": "text/x-python",
   "name": "python",
   "nbconvert_exporter": "python",
   "pygments_lexer": "ipython3",
   "version": "3.11.5"
  }
 },
 "nbformat": 4,
 "nbformat_minor": 2
}

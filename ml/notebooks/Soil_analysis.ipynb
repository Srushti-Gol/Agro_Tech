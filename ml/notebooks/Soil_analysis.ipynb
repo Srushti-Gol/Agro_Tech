{
  "cells": [
    {
      "cell_type": "code",
      "execution_count": 1,
      "metadata": {
        "id": "Y-It7tq-Ke12"
      },
      "outputs": [
        {
          "name": "stdout",
          "output_type": "stream",
          "text": [
            "WARNING:tensorflow:From c:\\Users\\MIS\\anaconda3\\Lib\\site-packages\\keras\\src\\losses.py:2976: The name tf.losses.sparse_softmax_cross_entropy is deprecated. Please use tf.compat.v1.losses.sparse_softmax_cross_entropy instead.\n",
            "\n"
          ]
        }
      ],
      "source": [
        "import os\n",
        "import numpy as np\n",
        "import pandas as pd\n",
        "import matplotlib.pyplot as plt\n",
        "import tensorflow as tf"
      ]
    },
    {
      "cell_type": "code",
      "execution_count": 2,
      "metadata": {
        "id": "92t7z5pjKe16"
      },
      "outputs": [],
      "source": [
        "from tensorflow.keras.models import Sequential\n",
        "from tensorflow.keras.preprocessing import image\n",
        "from tensorflow.keras.preprocessing.image import ImageDataGenerator\n",
        "from PIL import Image\n",
        "from tensorflow.keras.layers import Conv2D, MaxPooling2D, Flatten, Dense, Dropout, BatchNormalization\n",
        "from tensorflow.keras.optimizers import Adam\n",
        "from tensorflow.keras.callbacks import EarlyStopping\n",
        "from tensorflow.keras import regularizers\n"
      ]
    },
    {
      "cell_type": "code",
      "execution_count": 10,
      "metadata": {
        "id": "ueHX1Y9dKe17"
      },
      "outputs": [],
      "source": [
        "data_dir = \"../../../../Dataset/Soil types\"\n",
        "soils = os.listdir(data_dir)"
      ]
    },
    {
      "cell_type": "code",
      "execution_count": 11,
      "metadata": {
        "colab": {
          "base_uri": "https://localhost:8080/"
        },
        "id": "nyQRJi-TKe17",
        "outputId": "ee80af81-0008-47cd-d2f1-a794de9c1021"
      },
      "outputs": [
        {
          "data": {
            "text/plain": [
              "['Black Soil', 'Cinder Soil', 'Laterite Soil', 'Peat Soil', 'Yellow Soil']"
            ]
          },
          "execution_count": 11,
          "metadata": {},
          "output_type": "execute_result"
        }
      ],
      "source": [
        "soils"
      ]
    },
    {
      "cell_type": "code",
      "execution_count": 13,
      "metadata": {
        "colab": {
          "base_uri": "https://localhost:8080/",
          "height": 206
        },
        "id": "vHCVXj7oKe18",
        "outputId": "b7e4eee0-978b-41f2-d9aa-373717fd39bf"
      },
      "outputs": [
        {
          "data": {
            "text/html": [
              "<div>\n",
              "<style scoped>\n",
              "    .dataframe tbody tr th:only-of-type {\n",
              "        vertical-align: middle;\n",
              "    }\n",
              "\n",
              "    .dataframe tbody tr th {\n",
              "        vertical-align: top;\n",
              "    }\n",
              "\n",
              "    .dataframe thead th {\n",
              "        text-align: right;\n",
              "    }\n",
              "</style>\n",
              "<table border=\"1\" class=\"dataframe\">\n",
              "  <thead>\n",
              "    <tr style=\"text-align: right;\">\n",
              "      <th></th>\n",
              "      <th>no. of images</th>\n",
              "    </tr>\n",
              "  </thead>\n",
              "  <tbody>\n",
              "    <tr>\n",
              "      <th>Black Soil</th>\n",
              "      <td>37</td>\n",
              "    </tr>\n",
              "    <tr>\n",
              "      <th>Cinder Soil</th>\n",
              "      <td>30</td>\n",
              "    </tr>\n",
              "    <tr>\n",
              "      <th>Laterite Soil</th>\n",
              "      <td>30</td>\n",
              "    </tr>\n",
              "    <tr>\n",
              "      <th>Peat Soil</th>\n",
              "      <td>30</td>\n",
              "    </tr>\n",
              "    <tr>\n",
              "      <th>Yellow Soil</th>\n",
              "      <td>29</td>\n",
              "    </tr>\n",
              "  </tbody>\n",
              "</table>\n",
              "</div>"
            ],
            "text/plain": [
              "               no. of images\n",
              "Black Soil                37\n",
              "Cinder Soil               30\n",
              "Laterite Soil             30\n",
              "Peat Soil                 30\n",
              "Yellow Soil               29"
            ]
          },
          "execution_count": 13,
          "metadata": {},
          "output_type": "execute_result"
        }
      ],
      "source": [
        "# Number of images for each disease\n",
        "nums = {}\n",
        "for soil in soils:\n",
        "    nums[soil] = len(os.listdir(data_dir + '/' + soil))\n",
        "\n",
        "# converting the nums dictionary to pandas dataframe passing index as plant name and number of images as column\n",
        "\n",
        "img_per_class = pd.DataFrame(nums.values(), index=nums.keys(), columns=[\"no. of images\"])\n",
        "img_per_class"
      ]
    },
    {
      "cell_type": "code",
      "execution_count": 14,
      "metadata": {
        "colab": {
          "base_uri": "https://localhost:8080/"
        },
        "id": "0_UkbA-JKe18",
        "outputId": "14e2ea89-0dfd-4b42-b835-d8b670d2e83d"
      },
      "outputs": [
        {
          "name": "stdout",
          "output_type": "stream",
          "text": [
            "Found 126 images belonging to 5 classes.\n",
            "Found 30 images belonging to 5 classes.\n"
          ]
        }
      ],
      "source": [
        "datagen = ImageDataGenerator(\n",
        "    rescale=1./255,\n",
        "    validation_split=0.2,\n",
        "    rotation_range=20,\n",
        "    width_shift_range=0.2,\n",
        "    height_shift_range=0.2,\n",
        "    shear_range=0.2,\n",
        "    zoom_range=0.2,\n",
        "    horizontal_flip=True,\n",
        "    fill_mode='nearest'\n",
        ")\n",
        "\n",
        "train_set = datagen.flow_from_directory(data_dir,\n",
        "                                             target_size=(256, 256),\n",
        "                                             batch_size=10,\n",
        "                                             class_mode='categorical',\n",
        "                                             subset='training')\n",
        "test_set = datagen.flow_from_directory(data_dir,\n",
        "                                             target_size=(256, 256),\n",
        "                                             batch_size=10,\n",
        "                                             class_mode='categorical',\n",
        "                                             subset='validation')\n"
      ]
    },
    {
      "cell_type": "code",
      "execution_count": 15,
      "metadata": {},
      "outputs": [
        {
          "data": {
            "text/plain": [
              "['Black Soil', 'Cinder Soil', 'Laterite Soil', 'Peat Soil', 'Yellow Soil']"
            ]
          },
          "execution_count": 15,
          "metadata": {},
          "output_type": "execute_result"
        }
      ],
      "source": [
        "class_labels = list(train_set.class_indices.keys())\n",
        "class_labels"
      ]
    },
    {
      "cell_type": "code",
      "execution_count": null,
      "metadata": {
        "colab": {
          "base_uri": "https://localhost:8080/"
        },
        "id": "fm4pE3IEKe19",
        "outputId": "7368d56d-8e9e-4dad-8a77-07e9906bf3f4"
      },
      "outputs": [
        {
          "name": "stdout",
          "output_type": "stream",
          "text": [
            "Model: \"sequential\"\n",
            "_________________________________________________________________\n",
            " Layer (type)                Output Shape              Param #   \n",
            "=================================================================\n",
            " conv2d (Conv2D)             (None, 254, 254, 64)      1792      \n",
            "                                                                 \n",
            " max_pooling2d (MaxPooling2  (None, 127, 127, 64)      0         \n",
            " D)                                                              \n",
            "                                                                 \n",
            " batch_normalization (Batch  (None, 127, 127, 64)      256       \n",
            " Normalization)                                                  \n",
            "                                                                 \n",
            " conv2d_1 (Conv2D)           (None, 125, 125, 128)     73856     \n",
            "                                                                 \n",
            " max_pooling2d_1 (MaxPoolin  (None, 62, 62, 128)       0         \n",
            " g2D)                                                            \n",
            "                                                                 \n",
            " batch_normalization_1 (Bat  (None, 62, 62, 128)       512       \n",
            " chNormalization)                                                \n",
            "                                                                 \n",
            " flatten (Flatten)           (None, 492032)            0         \n",
            "                                                                 \n",
            " dense (Dense)               (None, 512)               251920896 \n",
            "                                                                 \n",
            " batch_normalization_2 (Bat  (None, 512)               2048      \n",
            " chNormalization)                                                \n",
            "                                                                 \n",
            " dropout (Dropout)           (None, 512)               0         \n",
            "                                                                 \n",
            " dense_1 (Dense)             (None, 5)                 2565      \n",
            "                                                                 \n",
            "=================================================================\n",
            "Total params: 252001925 (961.31 MB)\n",
            "Trainable params: 252000517 (961.31 MB)\n",
            "Non-trainable params: 1408 (5.50 KB)\n",
            "_________________________________________________________________\n"
          ]
        }
      ],
      "source": [
        "# Model instantiation\n",
        "model = Sequential()\n",
        "\n",
        "# Convolutional layers\n",
        "model.add(Conv2D(64, (3, 3), input_shape=(256, 256, 3), activation='relu'))\n",
        "model.add(MaxPooling2D(pool_size=(2, 2)))\n",
        "model.add(BatchNormalization())\n",
        "\n",
        "model.add(Conv2D(128, (3, 3), activation='relu'))\n",
        "model.add(MaxPooling2D(pool_size=(2, 2)))\n",
        "model.add(BatchNormalization())\n",
        "\n",
        "# Flatten layer\n",
        "model.add(Flatten())\n",
        "\n",
        "# Hidden layers with regularization\n",
        "model.add(Dense(512, activation='relu', kernel_regularizer=regularizers.l2(0.01)))\n",
        "model.add(BatchNormalization())\n",
        "model.add(Dropout(0.5))\n",
        "\n",
        "# Output layer\n",
        "model.add(Dense(len(train_set.class_indices), activation='softmax'))\n",
        "\n",
        "# Model compilation\n",
        "optimizer = Adam(learning_rate=1e-4)\n",
        "model.compile(optimizer=optimizer, loss='categorical_crossentropy', metrics=['accuracy'])\n",
        "\n",
        "# Model summary\n",
        "model.summary()"
      ]
    },
    {
      "cell_type": "code",
      "execution_count": null,
      "metadata": {
        "colab": {
          "base_uri": "https://localhost:8080/"
        },
        "id": "LaAswr4dKe1-",
        "outputId": "36d76da9-3b14-4e59-ed9b-df1c92c1bb6b"
      },
      "outputs": [
        {
          "name": "stdout",
          "output_type": "stream",
          "text": [
            "Epoch 1/20\n",
            "14/14 [==============================] - 151s 11s/step - loss: 5.6864 - accuracy: 0.8321 - val_loss: 6.7471 - val_accuracy: 0.4839\n",
            "Epoch 2/20\n",
            "14/14 [==============================] - 137s 10s/step - loss: 5.6356 - accuracy: 0.8015 - val_loss: 6.1453 - val_accuracy: 0.5484\n",
            "Epoch 3/20\n",
            "14/14 [==============================] - 139s 10s/step - loss: 5.1586 - accuracy: 0.8702 - val_loss: 5.9696 - val_accuracy: 0.5806\n",
            "Epoch 4/20\n",
            "14/14 [==============================] - 153s 11s/step - loss: 5.2255 - accuracy: 0.8092 - val_loss: 6.2479 - val_accuracy: 0.5484\n",
            "Epoch 5/20\n",
            "14/14 [==============================] - 144s 10s/step - loss: 5.1018 - accuracy: 0.8092 - val_loss: 5.4395 - val_accuracy: 0.4839\n",
            "Epoch 6/20\n",
            "14/14 [==============================] - 136s 10s/step - loss: 4.7921 - accuracy: 0.8092 - val_loss: 5.4511 - val_accuracy: 0.4839\n",
            "Epoch 7/20\n",
            "14/14 [==============================] - 147s 11s/step - loss: 4.7496 - accuracy: 0.8092 - val_loss: 4.9442 - val_accuracy: 0.6452\n",
            "Epoch 8/20\n",
            "14/14 [==============================] - 140s 10s/step - loss: 4.4543 - accuracy: 0.8244 - val_loss: 4.6946 - val_accuracy: 0.6452\n",
            "Epoch 9/20\n",
            "14/14 [==============================] - 146s 10s/step - loss: 4.2798 - accuracy: 0.8168 - val_loss: 4.2561 - val_accuracy: 0.8387\n",
            "Epoch 10/20\n",
            "14/14 [==============================] - 139s 10s/step - loss: 4.3094 - accuracy: 0.8321 - val_loss: 4.4864 - val_accuracy: 0.7097\n",
            "Epoch 11/20\n",
            "14/14 [==============================] - 145s 10s/step - loss: 4.1350 - accuracy: 0.8397 - val_loss: 4.6111 - val_accuracy: 0.5484\n",
            "Epoch 12/20\n",
            "14/14 [==============================] - 137s 10s/step - loss: 3.9812 - accuracy: 0.8244 - val_loss: 4.0417 - val_accuracy: 0.8387\n",
            "Epoch 13/20\n",
            "14/14 [==============================] - 139s 10s/step - loss: 3.7560 - accuracy: 0.8779 - val_loss: 4.0198 - val_accuracy: 0.7419\n",
            "Epoch 14/20\n",
            "14/14 [==============================] - 139s 10s/step - loss: 3.6805 - accuracy: 0.8855 - val_loss: 3.8840 - val_accuracy: 0.7097\n",
            "Epoch 15/20\n",
            "14/14 [==============================] - 147s 10s/step - loss: 3.6776 - accuracy: 0.8092 - val_loss: 3.5546 - val_accuracy: 0.8710\n",
            "Epoch 16/20\n",
            "14/14 [==============================] - 138s 10s/step - loss: 3.5493 - accuracy: 0.8550 - val_loss: 3.3525 - val_accuracy: 0.8710\n",
            "Epoch 17/20\n",
            "14/14 [==============================] - 146s 11s/step - loss: 3.3070 - accuracy: 0.8550 - val_loss: 3.3885 - val_accuracy: 0.7419\n",
            "Epoch 18/20\n",
            "14/14 [==============================] - 141s 10s/step - loss: 3.2889 - accuracy: 0.8397 - val_loss: 3.1495 - val_accuracy: 0.8710\n",
            "Epoch 19/20\n",
            "14/14 [==============================] - 143s 10s/step - loss: 3.2619 - accuracy: 0.8626 - val_loss: 3.1817 - val_accuracy: 0.8065\n",
            "Epoch 20/20\n",
            "14/14 [==============================] - 136s 10s/step - loss: 3.2316 - accuracy: 0.7939 - val_loss: 3.0959 - val_accuracy: 0.8710\n"
          ]
        }
      ],
      "source": [
        "# Model training\n",
        "early_stopping = EarlyStopping(monitor='val_loss', patience=5, restore_best_weights=True)\n",
        "soil_model = model.fit(train_set, epochs=20, validation_data=test_set, callbacks=[early_stopping])"
      ]
    },
    {
      "cell_type": "code",
      "execution_count": null,
      "metadata": {
        "colab": {
          "base_uri": "https://localhost:8080/"
        },
        "id": "teXTCvpBFMxd",
        "outputId": "85a34673-666b-483e-9cf5-73278205f944"
      },
      "outputs": [
        {
          "name": "stdout",
          "output_type": "stream",
          "text": [
            "1/1 [==============================] - 1s 752ms/step\n",
            "Predicted class: Laterite Soil\n"
          ]
        }
      ],
      "source": [
        "# Load and preprocess the new image\n",
        "img_path = '/content/laterite-soil.jpeg'  \n",
        "img = image.load_img(img_path, target_size=(256, 256))\n",
        "img_array = image.img_to_array(img)\n",
        "img_array = np.expand_dims(img_array, axis=0)\n",
        "img_array /= 255.0  # Normalize the pixel values\n",
        "\n",
        "# Make predictions\n",
        "predictions = model.predict(img_array)\n",
        "\n",
        "# Get the predicted class index\n",
        "predicted_class_index = np.argmax(predictions)\n",
        "\n",
        "# Map the predicted class index to the class label\n",
        "class_labels = ['Black Soil', 'Cinder Soil', 'Laterite Soil', 'Peat Soil', 'Yellow Soil']\n",
        "predicted_class_label = class_labels[predicted_class_index]\n",
        "\n",
        "print(\"Predicted class:\", predicted_class_label)\n"
      ]
    },
    {
      "cell_type": "code",
      "execution_count": null,
      "metadata": {
        "colab": {
          "base_uri": "https://localhost:8080/"
        },
        "id": "5PjsnYVuIQ_Z",
        "outputId": "f30d81d6-7d1e-48ba-b4a2-042527f1ddee"
      },
      "outputs": [
        {
          "name": "stdout",
          "output_type": "stream",
          "text": [
            "1/1 [==============================] - 0s 265ms/step\n",
            "Predicted class: Peat Soil\n"
          ]
        }
      ],
      "source": [
        "# Load and preprocess the new image\n",
        "img_path = '/content/peat-soil.jpg'  \n",
        "img = image.load_img(img_path, target_size=(256, 256))\n",
        "img_array = image.img_to_array(img)\n",
        "img_array = np.expand_dims(img_array, axis=0)\n",
        "img_array /= 255.0  # Normalize the pixel values\n",
        "\n",
        "# Make predictions\n",
        "predictions = model.predict(img_array)\n",
        "\n",
        "# Get the predicted class index\n",
        "predicted_class_index = np.argmax(predictions)\n",
        "\n",
        "# Map the predicted class index to the class label\n",
        "class_labels = list(train_set.class_indices.keys())\n",
        "predicted_class_label = class_labels[predicted_class_index]\n",
        "\n",
        "print(\"Predicted class:\", predicted_class_label)"
      ]
    },
    {
      "cell_type": "code",
      "execution_count": null,
      "metadata": {
        "colab": {
          "base_uri": "https://localhost:8080/"
        },
        "id": "MepR4uQtKGit",
        "outputId": "7ed15522-2d8c-427e-eec6-bcbe19737e48"
      },
      "outputs": [
        {
          "name": "stdout",
          "output_type": "stream",
          "text": [
            "1/1 [==============================] - 0s 320ms/step\n",
            "Predicted class: Yellow Soil\n"
          ]
        }
      ],
      "source": [
        "# Load and preprocess the new image\n",
        "img_path = '/content/yellow-soil.jpg' \n",
        "img = image.load_img(img_path, target_size=(256, 256))\n",
        "img_array = image.img_to_array(img)\n",
        "img_array = np.expand_dims(img_array, axis=0)\n",
        "img_array /= 255.0  # Normalize the pixel values\n",
        "\n",
        "# Make predictions\n",
        "predictions = model.predict(img_array)\n",
        "\n",
        "# Get the predicted class index\n",
        "predicted_class_index = np.argmax(predictions)\n",
        "\n",
        "# Map the predicted class index to the class label\n",
        "class_labels = list(train_set.class_indices.keys())\n",
        "predicted_class_label = class_labels[predicted_class_index]\n",
        "\n",
        "print(\"Predicted class:\", predicted_class_label)"
      ]
    },
    {
      "cell_type": "code",
      "execution_count": null,
      "metadata": {
        "colab": {
          "base_uri": "https://localhost:8080/"
        },
        "id": "CK1CbTSmLPnY",
        "outputId": "dd20daa9-3f5e-4272-d63a-9d2ada31a1b4"
      },
      "outputs": [
        {
          "name": "stderr",
          "output_type": "stream",
          "text": [
            "/usr/local/lib/python3.10/dist-packages/keras/src/engine/training.py:3103: UserWarning: You are saving your model as an HDF5 file via `model.save()`. This file format is considered legacy. We recommend using instead the native Keras format, e.g. `model.save('my_model.keras')`.\n",
            "  saving_api.save_model(\n"
          ]
        }
      ],
      "source": [
        "# Save the model to Google Drive\n",
        "model.save('/content/drive/MyDrive/model.h5')"
      ]
    },
    {
      "cell_type": "code",
      "execution_count": 3,
      "metadata": {
        "id": "6Bs_ZgqeMQtV"
      },
      "outputs": [
        {
          "name": "stdout",
          "output_type": "stream",
          "text": [
            "WARNING:tensorflow:From c:\\Users\\MIS\\anaconda3\\Lib\\site-packages\\keras\\src\\backend.py:1398: The name tf.executing_eagerly_outside_functions is deprecated. Please use tf.compat.v1.executing_eagerly_outside_functions instead.\n",
            "\n",
            "WARNING:tensorflow:From c:\\Users\\MIS\\anaconda3\\Lib\\site-packages\\keras\\src\\layers\\pooling\\max_pooling2d.py:161: The name tf.nn.max_pool is deprecated. Please use tf.nn.max_pool2d instead.\n",
            "\n"
          ]
        }
      ],
      "source": [
        "from tensorflow.keras.models import load_model\n",
        "\n",
        "# Load the saved model\n",
        "loaded_model = load_model('../models/model.h5')"
      ]
    },
    {
      "cell_type": "code",
      "execution_count": 4,
      "metadata": {},
      "outputs": [
        {
          "name": "stdout",
          "output_type": "stream",
          "text": [
            "1/1 [==============================] - 2s 2s/step\n",
            "Predicted class: Yellow Soil\n"
          ]
        }
      ],
      "source": [
        "from tensorflow.keras.preprocessing import image\n",
        "import numpy as np\n",
        "\n",
        "# Load and preprocess the new image\n",
        "img_path = './2.jfif'  \n",
        "img = image.load_img(img_path, target_size=(256, 256))\n",
        "img_array = image.img_to_array(img)\n",
        "img_array = np.expand_dims(img_array, axis=0)\n",
        "img_array /= 255.0  # Normalize the pixel values\n",
        "\n",
        "# Make predictions\n",
        "predictions = loaded_model.predict(img_array)\n",
        "\n",
        "# Get the predicted class index\n",
        "predicted_class_index = np.argmax(predictions)\n",
        "\n",
        "# Map the predicted class index to the class label\n",
        "class_labels = ['Black Soil', 'Cinder Soil', 'Laterite Soil', 'Peat Soil', 'Yellow Soil']\n",
        "predicted_class_label = class_labels[predicted_class_index]\n",
        "\n",
        "print(\"Predicted class:\", predicted_class_label)"
      ]
    }
  ],
  "metadata": {
    "colab": {
      "provenance": []
    },
    "kernelspec": {
      "display_name": "base",
      "language": "python",
      "name": "python3"
    },
    "language_info": {
      "codemirror_mode": {
        "name": "ipython",
        "version": 3
      },
      "file_extension": ".py",
      "mimetype": "text/x-python",
      "name": "python",
      "nbconvert_exporter": "python",
      "pygments_lexer": "ipython3",
      "version": "3.11.5"
    }
  },
  "nbformat": 4,
  "nbformat_minor": 0
}
